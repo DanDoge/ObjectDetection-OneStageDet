{
 "cells": [
  {
   "cell_type": "code",
   "execution_count": 1,
   "metadata": {},
   "outputs": [],
   "source": [
    "path = \"C:\\\\Users\\\\AndrewHuang\\\\Documents\\\\GitHub\\\\ObjectDetection-OneStageDet\\\\yolo\\\\COCO\""
   ]
  },
  {
   "cell_type": "code",
   "execution_count": 2,
   "metadata": {},
   "outputs": [
    {
     "data": {
      "text/plain": [
       "('C:\\\\Users\\\\AndrewHuang\\\\Documents\\\\GitHub\\\\ObjectDetection-OneStageDet\\\\yolo\\\\COCO\\\\annotations/instances_train2017.json',\n",
       " 'C:\\\\Users\\\\AndrewHuang\\\\Documents\\\\GitHub\\\\ObjectDetection-OneStageDet\\\\yolo\\\\COCO\\\\annotations/instances_val2017.json')"
      ]
     },
     "execution_count": 2,
     "metadata": {},
     "output_type": "execute_result"
    }
   ],
   "source": [
    "import os\n",
    "train_path = os.path.join(path, \"annotations/instances_train2017.json\")\n",
    "val_path = os.path.join(path, \"annotations/instances_val2017.json\")\n",
    "train_path, val_path"
   ]
  },
  {
   "cell_type": "code",
   "execution_count": 3,
   "metadata": {},
   "outputs": [],
   "source": [
    "import json\n",
    "import os\n",
    "data = json.load(open(train_path))\n",
    "#data"
   ]
  },
  {
   "cell_type": "code",
   "execution_count": 4,
   "metadata": {},
   "outputs": [],
   "source": [
    "import matplotlib.pyplot as plt\n",
    "import matplotlib.image as mpimg\n",
    "import matplotlib.patches as patches\n",
    "from PIL import Image\n",
    "\n",
    "imgs = []\n",
    "idx = 0\n",
    "\n",
    "for an in data[\"annotations\"]:\n",
    "    #print(an)\n",
    "    #break\n",
    "    if an['category_id'] == 3:\n",
    "        x1, y1, w, h = an['bbox']\n",
    "        x2 = x1 + w\n",
    "        y2 = y1 + h\n",
    "        img = Image.open(os.path.join(path + f\"/train2017/{str(an['image_id']).zfill(12)}.jpg\"))\n",
    "        x1 = max(0, x1)\n",
    "        y1 = max(0, y1)\n",
    "        x2 = min(img.size[0], x2)\n",
    "        y2 = min(img.size[1], y2)\n",
    "        img = img.crop((x1, y1, x2, y2))\n",
    "        #img.show()\n",
    "        img.save(f'./car_images/{idx}.jpg')\n",
    "        idx += 1"
   ]
  },
  {
   "cell_type": "code",
   "execution_count": 5,
   "metadata": {},
   "outputs": [],
   "source": [
    "data = json.load(open(val_path))\n",
    "for an in data[\"annotations\"]:\n",
    "    #print(an)\n",
    "    #break\n",
    "    if an['category_id'] == 3:\n",
    "        x1, y1, w, h = an['bbox']\n",
    "        x2 = x1 + w\n",
    "        y2 = y1 + h\n",
    "        img = Image.open(os.path.join(path + f\"/val2017/{str(an['image_id']).zfill(12)}.jpg\"))\n",
    "        x1 = max(0, x1)\n",
    "        y1 = max(0, y1)\n",
    "        x2 = min(img.size[0], x2)\n",
    "        y2 = min(img.size[1], y2)\n",
    "        img = img.crop((x1, y1, x2, y2))\n",
    "        #img.show()\n",
    "        img.save(f'./car_images/{idx}.jpg')\n",
    "        idx += 1"
   ]
  },
  {
   "cell_type": "code",
   "execution_count": null,
   "metadata": {},
   "outputs": [],
   "source": []
  }
 ],
 "metadata": {
  "kernelspec": {
   "display_name": "Python 3",
   "language": "python",
   "name": "python3"
  },
  "language_info": {
   "codemirror_mode": {
    "name": "ipython",
    "version": 3
   },
   "file_extension": ".py",
   "mimetype": "text/x-python",
   "name": "python",
   "nbconvert_exporter": "python",
   "pygments_lexer": "ipython3",
   "version": "3.7.0"
  }
 },
 "nbformat": 4,
 "nbformat_minor": 2
}
